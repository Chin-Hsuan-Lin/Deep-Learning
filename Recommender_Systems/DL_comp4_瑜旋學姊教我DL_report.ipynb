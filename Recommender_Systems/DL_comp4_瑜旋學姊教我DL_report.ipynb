{
 "cells": [
  {
   "cell_type": "markdown",
   "metadata": {},
   "source": [
    "## DataLab Cup 4: Recommender Systems\n",
    "- Team name: 瑜旋學姊教我DL\n",
    "- Team members:\n",
    "    - 王興彥 112062531\n",
    "    - 邱仁緯 112062559\n",
    "    - 林沁璿 112062632"
   ]
  },
  {
   "cell_type": "markdown",
   "metadata": {},
   "source": [
    "### Environment Setting"
   ]
  },
  {
   "cell_type": "code",
   "execution_count": 1,
   "metadata": {},
   "outputs": [],
   "source": [
    "import os\n",
    "import random\n",
    "\n",
    "os.environ['TF_CPP_MIN_LOG_LEVEL'] = '3'\n",
    "os.environ['CUDA_VISIBLE_DEVICES'] = '0, 1'\n",
    "\n",
    "import numpy as np\n",
    "import pandas as pd\n",
    "from tqdm import tqdm\n",
    "\n",
    "from evaluation.environment import TrainingEnvironment, TestingEnvironment"
   ]
  },
  {
   "cell_type": "code",
   "execution_count": 2,
   "metadata": {},
   "outputs": [
    {
     "name": "stdout",
     "output_type": "stream",
     "text": [
      "2 Physical GPUs, 1 Logical GPUs\n"
     ]
    }
   ],
   "source": [
    "import tensorflow as tf\n",
    "\n",
    "gpus = tf.config.experimental.list_physical_devices('GPU')\n",
    "if gpus:\n",
    "    try:\n",
    "        tf.config.experimental.set_visible_devices(gpus[0], 'GPU')\n",
    "        # Currently, memory growth needs to be the same across GPUs\n",
    "        for gpu in gpus:\n",
    "            tf.config.experimental.set_memory_growth(gpu, True)\n",
    "        logical_gpus = tf.config.experimental.list_logical_devices('GPU')\n",
    "        print(len(gpus), \"Physical GPUs,\", len(logical_gpus), \"Logical GPUs\")\n",
    "    except RuntimeError as e:\n",
    "        # Memory growth must be set before GPUs have been initialized\n",
    "        print(e)"
   ]
  },
  {
   "cell_type": "code",
   "execution_count": 3,
   "metadata": {},
   "outputs": [],
   "source": [
    "# Official hyperparameters for this competition (do not modify)\n",
    "N_TRAIN_USERS = 1000\n",
    "N_TEST_USERS = 2000\n",
    "N_ITEMS = 209527\n",
    "HORIZON = 2000\n",
    "TEST_EPISODES = 5\n",
    "SLATE_SIZE = 5"
   ]
  },
  {
   "cell_type": "markdown",
   "metadata": {},
   "source": [
    "### Dataset"
   ]
  },
  {
   "cell_type": "code",
   "execution_count": 4,
   "metadata": {},
   "outputs": [],
   "source": [
    "# Dataset paths\n",
    "USER_DATA = os.path.join('dataset', 'user_data.json')\n",
    "ITEM_DATA = os.path.join('dataset', 'item_data.json')\n",
    "\n",
    "# Output file path\n",
    "OUTPUT_PATH = os.path.join('output', 'output.csv')"
   ]
  },
  {
   "cell_type": "code",
   "execution_count": 5,
   "metadata": {},
   "outputs": [],
   "source": [
    "df_user = pd.read_json(USER_DATA, lines=True)\n",
    "# df_user"
   ]
  },
  {
   "cell_type": "code",
   "execution_count": 6,
   "metadata": {},
   "outputs": [],
   "source": [
    "df_item = pd.read_json(ITEM_DATA, lines=True)\n",
    "# df_item"
   ]
  },
  {
   "cell_type": "code",
   "execution_count": 7,
   "metadata": {},
   "outputs": [],
   "source": [
    "M_USERS = 2000\n",
    "N_ITEMS = 209527\n",
    "SEED = 0\n",
    "tf.random.set_seed(SEED)"
   ]
  },
  {
   "cell_type": "code",
   "execution_count": 8,
   "metadata": {},
   "outputs": [],
   "source": [
    "# df_ratings = pd.DataFrame(columns=['user_id', 'item_id', 'rating'])\n",
    "\n",
    "# ratings_data = []\n",
    "# for i in range(N_TRAIN_USERS):\n",
    "#     for item_id in df_user['history'][i][:3]:\n",
    "#         ratings_data.append({'user_id': i, 'item_id': item_id, 'rating': 5.0})\n",
    "\n",
    "# df_ratings = pd.DataFrame(ratings_data)\n",
    "\n",
    "df_ratings = pd.read_csv('./dataset/ratings_pos.csv')\n",
    "# df_ratings"
   ]
  },
  {
   "cell_type": "markdown",
   "metadata": {},
   "source": [
    "### Recommender Model"
   ]
  },
  {
   "cell_type": "code",
   "execution_count": 9,
   "metadata": {},
   "outputs": [],
   "source": [
    "class FunkSVDRecommender(tf.keras.Model):\n",
    "    '''\n",
    "    Simplified Funk-SVD recommender model\n",
    "    '''\n",
    "    def __init__(self, m_users: int, n_items: int, embedding_size: int, learning_rate: float):\n",
    "        '''\n",
    "        Constructor of the model\n",
    "        '''\n",
    "        super().__init__()\n",
    "        self.m = m_users\n",
    "        self.n = n_items\n",
    "        self.k = embedding_size\n",
    "        self.lr = learning_rate\n",
    "\n",
    "        # user embeddings P\n",
    "        self.P = tf.Variable(tf.keras.initializers.RandomNormal()(shape=(self.m, self.k)))\n",
    "\n",
    "        # item embeddings Q\n",
    "        self.Q = tf.Variable(tf.keras.initializers.RandomNormal()(shape=(self.n, self.k)))\n",
    "\n",
    "        # optimizer\n",
    "        self.optimizer = tf.optimizers.Adam(learning_rate=self.lr)\n",
    "\n",
    "    @tf.function\n",
    "    def call(self, user_ids: tf.Tensor, item_ids: tf.Tensor) -> tf.Tensor:\n",
    "        '''\n",
    "        Forward pass used in training and validating\n",
    "        '''\n",
    "        # dot product the user and item embeddings corresponding to the observed interaction pairs to produce predictions\n",
    "        y_pred = tf.reduce_sum(tf.gather(self.P, indices=user_ids) * tf.gather(self.Q, indices=item_ids), axis=1)\n",
    "\n",
    "        return y_pred\n",
    "\n",
    "    @tf.function\n",
    "    def compute_loss(self, y_true: tf.Tensor, y_pred: tf.Tensor) -> tf.Tensor:\n",
    "        '''\n",
    "        Compute the MSE loss of the model\n",
    "        '''\n",
    "        loss = tf.losses.mean_squared_error(y_true, y_pred)\n",
    "\n",
    "        return loss\n",
    "\n",
    "    @tf.function\n",
    "    def train_step(self, data: tf.Tensor) -> tf.Tensor:\n",
    "        '''\n",
    "        Train the model with one batch\n",
    "        data: batched user-item interactions\n",
    "        each record in data is in the format ['user_id', 'item_id', 'rating']\n",
    "        '''\n",
    "        user_ids = tf.cast(data[:, 0], dtype=tf.int32)\n",
    "        item_ids = tf.cast(data[:, 1], dtype=tf.int32)\n",
    "        y_true = tf.cast(data[:, 2], dtype=tf.float32)\n",
    "\n",
    "        # slate = self.eval_predict_onestep(user_ids)\n",
    "        # print(slate)\n",
    "        # compute loss\n",
    "        with tf.GradientTape() as tape:\n",
    "            y_pred = self(user_ids, item_ids)\n",
    "            loss = self.compute_loss(y_true, y_pred)\n",
    "\n",
    "        # compute gradients\n",
    "        gradients = tape.gradient(loss, self.trainable_variables)\n",
    "\n",
    "        # update weights\n",
    "        self.optimizer.apply_gradients(zip(gradients, self.trainable_variables))\n",
    "\n",
    "        return loss\n",
    "\n",
    "    @tf.function\n",
    "    def val_step(self, data: tf.Tensor) -> tf.Tensor:\n",
    "        '''\n",
    "        Validate the model with one batch\n",
    "        data: batched user-item interactions\n",
    "        each record in data is in the format ['user_id', 'item_id', 'rating']\n",
    "        '''\n",
    "        user_ids = tf.cast(data[:, 0], dtype=tf.int32)\n",
    "        item_ids = tf.cast(data[:, 1], dtype=tf.int32)\n",
    "        y_true = tf.cast(data[:, 2], dtype=tf.float32)\n",
    "\n",
    "        # compute loss\n",
    "        y_pred = self(user_ids, item_ids)\n",
    "        loss = self.compute_loss(y_true, y_pred)\n",
    "\n",
    "        return loss\n",
    "\n",
    "    @tf.function\n",
    "    def eval_predict_onestep(self, query: tf.Tensor) -> tf.Tensor:\n",
    "        '''\n",
    "        Retrieve and return the MovieIDs of the 5 recommended movies given a query\n",
    "        You should return a tf.Tensor with shape=(5,)\n",
    "        query will be a tf.Tensor with shape=(1,) and dtype=tf.int64\n",
    "        query is the UserID of the query\n",
    "        '''\n",
    "        # dot product the selected user and all item embeddings to produce predictions\n",
    "        user_id = tf.cast(query, tf.int32)\n",
    "        y_pred = tf.reduce_sum(tf.gather(self.P, user_id) * self.Q, axis=1)\n",
    "\n",
    "        # select the top 5 items with highest scores in y_pred\n",
    "        y_top_5 = tf.math.top_k(y_pred, k=5).indices\n",
    "\n",
    "        return y_top_5"
   ]
  },
  {
   "cell_type": "markdown",
   "metadata": {},
   "source": [
    "### Split datasets"
   ]
  },
  {
   "cell_type": "code",
   "execution_count": 10,
   "metadata": {},
   "outputs": [
    {
     "name": "stderr",
     "output_type": "stream",
     "text": [
      "100%|██████████| 1000/1000 [00:00<00:00, 4245.06it/s]\n"
     ]
    }
   ],
   "source": [
    "# let interactions with rating >= 3 be positive interactions\n",
    "POSITIVE_THRESHOLD = 3\n",
    "\n",
    "# each per-user validation set should contain at least 3 positive interactions\n",
    "POSITIVE_PER_USER = 4\n",
    "\n",
    "train_dataframes = []\n",
    "val_dataframes = []\n",
    "# ['user_id', 'item_id', 'rating']\n",
    "for i in tqdm(range(N_TRAIN_USERS)):\n",
    "    user_all = df_ratings[df_ratings['user_id'] == i]\n",
    "    user_positive = user_all[user_all['rating'] >= POSITIVE_THRESHOLD]\n",
    "\n",
    "    # check if there are enough positive interactions to build a validation set for this user\n",
    "    if len(user_positive) >= POSITIVE_PER_USER:\n",
    "        split_idx = user_positive.iloc[-POSITIVE_PER_USER].name\n",
    "        user_train = user_all.loc[:split_idx]\n",
    "        user_test = user_all.loc[split_idx:]\n",
    "        # assert user_train['Timestamp'].max() <= user_test['Timestamp'].min()\n",
    "        train_dataframes.append(user_train)\n",
    "        val_dataframes.append(user_test)\n",
    "    else:\n",
    "        train_dataframes.append(user_all)\n",
    "\n",
    "# concat all per-user training sets\n",
    "df_train = pd.concat(train_dataframes)\n",
    "\n",
    "# normalize the ratings (may be beneficial to some models)\n",
    "df_train_norm = df_train\n",
    "df_train_norm['rating'] -= 3\n",
    "df_train_norm['rating'] /= 2\n",
    "\n",
    "# concat all per-user validation sets\n",
    "df_val = pd.concat(val_dataframes)\n",
    "\n",
    "# normalize the ratings (may be beneficial to some models)\n",
    "# here we make a copy of the un-normalized validation set for evaluation\n",
    "df_val_norm = df_val.copy(deep=True)\n",
    "df_val_norm['rating'] -= 3\n",
    "df_val_norm['rating'] /= 2"
   ]
  },
  {
   "cell_type": "code",
   "execution_count": 11,
   "metadata": {},
   "outputs": [],
   "source": [
    "# hyperparameters\n",
    "EMBEDDING_SIZE = 512\n",
    "BATCH_SIZE = 128\n",
    "N_EPOCHS = 20\n",
    "LEARNING_RATE = 1e-5"
   ]
  },
  {
   "cell_type": "markdown",
   "metadata": {},
   "source": [
    "### Training"
   ]
  },
  {
   "cell_type": "code",
   "execution_count": 12,
   "metadata": {},
   "outputs": [],
   "source": [
    "import matplotlib.pyplot as plt\n",
    "\n",
    "# prepare datasets\n",
    "dataset_train = tf.data.Dataset.from_tensor_slices(df_train_norm)\n",
    "dataset_train = dataset_train.batch(batch_size=BATCH_SIZE, num_parallel_calls=tf.data.AUTOTUNE).prefetch(buffer_size=tf.data.AUTOTUNE)\n",
    "\n",
    "dataset_val = tf.data.Dataset.from_tensor_slices(df_val_norm)\n",
    "dataset_val = dataset_val.batch(batch_size=BATCH_SIZE, num_parallel_calls=tf.data.AUTOTUNE).prefetch(buffer_size=tf.data.AUTOTUNE)\n",
    "\n",
    "# build the model\n",
    "model = FunkSVDRecommender(m_users=N_TRAIN_USERS, n_items=N_ITEMS, embedding_size=EMBEDDING_SIZE, learning_rate=LEARNING_RATE)"
   ]
  },
  {
   "cell_type": "code",
   "execution_count": 13,
   "metadata": {},
   "outputs": [],
   "source": [
    "ckpt = tf.train.Checkpoint(epoch=tf.Variable(0), net=model)\n",
    "manager = tf.train.CheckpointManager(ckpt, './ckpts/FSVD', max_to_keep=10, checkpoint_name='fsvd')"
   ]
  },
  {
   "cell_type": "code",
   "execution_count": 14,
   "metadata": {},
   "outputs": [
    {
     "data": {
      "text/plain": [
       "<tensorflow.python.checkpoint.checkpoint.CheckpointLoadStatus at 0x7f52ac7ad630>"
      ]
     },
     "execution_count": 14,
     "metadata": {},
     "output_type": "execute_result"
    }
   ],
   "source": [
    "ckpt.restore(manager.latest_checkpoint)"
   ]
  },
  {
   "cell_type": "code",
   "execution_count": 15,
   "metadata": {},
   "outputs": [
    {
     "name": "stdout",
     "output_type": "stream",
     "text": [
      "Epoch 1:\n"
     ]
    },
    {
     "name": "stderr",
     "output_type": "stream",
     "text": [
      "Training:   0%|          | 0/1271 [00:00<?, ?it/s]WARNING: All log messages before absl::InitializeLog() is called are written to STDERR\n",
      "I0000 00:00:1705370569.151663   10307 device_compiler.h:186] Compiled cluster using XLA!  This line is logged at most once for the lifetime of the process.\n",
      "Training: 100%|██████████| 1271/1271 [00:10<00:00, 120.35it/s]\n",
      "Validating: 100%|██████████| 32/32 [00:00<00:00, 549.42it/s]\n"
     ]
    },
    {
     "name": "stdout",
     "output_type": "stream",
     "text": [
      "Epoch 1 train_loss: 0.1272, val_loss: 0.7911\n",
      "\n",
      "Saved checkpoint for epoch 81: ./ckpts/FSVD/fsvd-81\n",
      "Epoch 2:\n"
     ]
    },
    {
     "name": "stderr",
     "output_type": "stream",
     "text": [
      "Training: 100%|██████████| 1271/1271 [00:07<00:00, 159.64it/s]\n",
      "Validating: 100%|██████████| 32/32 [00:00<00:00, 2061.02it/s]\n"
     ]
    },
    {
     "name": "stdout",
     "output_type": "stream",
     "text": [
      "Epoch 2 train_loss: 0.1204, val_loss: 0.7892\n",
      "\n",
      "Saved checkpoint for epoch 82: ./ckpts/FSVD/fsvd-82\n",
      "Epoch 3:\n"
     ]
    },
    {
     "name": "stderr",
     "output_type": "stream",
     "text": [
      "Training: 100%|██████████| 1271/1271 [00:07<00:00, 161.09it/s]\n",
      "Validating: 100%|██████████| 32/32 [00:00<00:00, 3076.06it/s]\n"
     ]
    },
    {
     "name": "stdout",
     "output_type": "stream",
     "text": [
      "Epoch 3 train_loss: 0.1138, val_loss: 0.7874\n",
      "\n",
      "Saved checkpoint for epoch 83: ./ckpts/FSVD/fsvd-83\n",
      "Epoch 4:\n"
     ]
    },
    {
     "name": "stderr",
     "output_type": "stream",
     "text": [
      "Training: 100%|██████████| 1271/1271 [00:07<00:00, 159.33it/s]\n",
      "Validating: 100%|██████████| 32/32 [00:00<00:00, 2949.78it/s]\n"
     ]
    },
    {
     "name": "stdout",
     "output_type": "stream",
     "text": [
      "Epoch 4 train_loss: 0.1075, val_loss: 0.7857\n",
      "\n",
      "Saved checkpoint for epoch 84: ./ckpts/FSVD/fsvd-84\n",
      "Epoch 5:\n"
     ]
    },
    {
     "name": "stderr",
     "output_type": "stream",
     "text": [
      "Training: 100%|██████████| 1271/1271 [00:07<00:00, 160.21it/s]\n",
      "Validating: 100%|██████████| 32/32 [00:00<00:00, 3005.39it/s]\n"
     ]
    },
    {
     "name": "stdout",
     "output_type": "stream",
     "text": [
      "Epoch 5 train_loss: 0.1014, val_loss: 0.7840\n",
      "\n",
      "Saved checkpoint for epoch 85: ./ckpts/FSVD/fsvd-85\n",
      "Epoch 6:\n"
     ]
    },
    {
     "name": "stderr",
     "output_type": "stream",
     "text": [
      "Training: 100%|██████████| 1271/1271 [00:07<00:00, 159.47it/s]\n",
      "Validating: 100%|██████████| 32/32 [00:00<00:00, 2962.41it/s]\n"
     ]
    },
    {
     "name": "stdout",
     "output_type": "stream",
     "text": [
      "Epoch 6 train_loss: 0.0955, val_loss: 0.7823\n",
      "\n",
      "Saved checkpoint for epoch 86: ./ckpts/FSVD/fsvd-86\n",
      "Epoch 7:\n"
     ]
    },
    {
     "name": "stderr",
     "output_type": "stream",
     "text": [
      "Training: 100%|██████████| 1271/1271 [00:07<00:00, 160.49it/s]\n",
      "Validating: 100%|██████████| 32/32 [00:00<00:00, 3280.89it/s]\n"
     ]
    },
    {
     "name": "stdout",
     "output_type": "stream",
     "text": [
      "Epoch 7 train_loss: 0.0899, val_loss: 0.7807\n",
      "\n",
      "Saved checkpoint for epoch 87: ./ckpts/FSVD/fsvd-87\n",
      "Epoch 8:\n"
     ]
    },
    {
     "name": "stderr",
     "output_type": "stream",
     "text": [
      "Training: 100%|██████████| 1271/1271 [00:07<00:00, 160.64it/s]\n",
      "Validating: 100%|██████████| 32/32 [00:00<00:00, 3039.49it/s]\n"
     ]
    },
    {
     "name": "stdout",
     "output_type": "stream",
     "text": [
      "Epoch 8 train_loss: 0.0845, val_loss: 0.7791\n",
      "\n",
      "Saved checkpoint for epoch 88: ./ckpts/FSVD/fsvd-88\n",
      "Epoch 9:\n"
     ]
    },
    {
     "name": "stderr",
     "output_type": "stream",
     "text": [
      "Training: 100%|██████████| 1271/1271 [00:07<00:00, 159.85it/s]\n",
      "Validating: 100%|██████████| 32/32 [00:00<00:00, 1997.44it/s]\n"
     ]
    },
    {
     "name": "stdout",
     "output_type": "stream",
     "text": [
      "Epoch 9 train_loss: 0.0793, val_loss: 0.7776\n",
      "\n",
      "Saved checkpoint for epoch 89: ./ckpts/FSVD/fsvd-89\n",
      "Epoch 10:\n"
     ]
    },
    {
     "name": "stderr",
     "output_type": "stream",
     "text": [
      "Training: 100%|██████████| 1271/1271 [00:07<00:00, 160.49it/s]\n",
      "Validating: 100%|██████████| 32/32 [00:00<00:00, 3526.29it/s]\n"
     ]
    },
    {
     "name": "stdout",
     "output_type": "stream",
     "text": [
      "Epoch 10 train_loss: 0.0744, val_loss: 0.7761\n",
      "\n",
      "Saved checkpoint for epoch 90: ./ckpts/FSVD/fsvd-90\n",
      "Epoch 11:\n"
     ]
    },
    {
     "name": "stderr",
     "output_type": "stream",
     "text": [
      "Training: 100%|██████████| 1271/1271 [00:07<00:00, 160.89it/s]\n",
      "Validating: 100%|██████████| 32/32 [00:00<00:00, 2351.64it/s]\n"
     ]
    },
    {
     "name": "stdout",
     "output_type": "stream",
     "text": [
      "Epoch 11 train_loss: 0.0697, val_loss: 0.7747\n",
      "\n",
      "Saved checkpoint for epoch 91: ./ckpts/FSVD/fsvd-91\n",
      "Epoch 12:\n"
     ]
    },
    {
     "name": "stderr",
     "output_type": "stream",
     "text": [
      "Training: 100%|██████████| 1271/1271 [00:07<00:00, 160.15it/s]\n",
      "Validating: 100%|██████████| 32/32 [00:00<00:00, 2991.39it/s]\n"
     ]
    },
    {
     "name": "stdout",
     "output_type": "stream",
     "text": [
      "Epoch 12 train_loss: 0.0652, val_loss: 0.7733\n",
      "\n",
      "Saved checkpoint for epoch 92: ./ckpts/FSVD/fsvd-92\n",
      "Epoch 13:\n"
     ]
    },
    {
     "name": "stderr",
     "output_type": "stream",
     "text": [
      "Training: 100%|██████████| 1271/1271 [00:07<00:00, 160.58it/s]\n",
      "Validating: 100%|██████████| 32/32 [00:00<00:00, 2212.37it/s]\n"
     ]
    },
    {
     "name": "stdout",
     "output_type": "stream",
     "text": [
      "Epoch 13 train_loss: 0.0609, val_loss: 0.7720\n",
      "\n",
      "Saved checkpoint for epoch 93: ./ckpts/FSVD/fsvd-93\n",
      "Epoch 14:\n"
     ]
    },
    {
     "name": "stderr",
     "output_type": "stream",
     "text": [
      "Training: 100%|██████████| 1271/1271 [00:07<00:00, 160.21it/s]\n",
      "Validating: 100%|██████████| 32/32 [00:00<00:00, 2500.33it/s]\n"
     ]
    },
    {
     "name": "stdout",
     "output_type": "stream",
     "text": [
      "Epoch 14 train_loss: 0.0569, val_loss: 0.7707\n",
      "\n",
      "Saved checkpoint for epoch 94: ./ckpts/FSVD/fsvd-94\n",
      "Epoch 15:\n"
     ]
    },
    {
     "name": "stderr",
     "output_type": "stream",
     "text": [
      "Training: 100%|██████████| 1271/1271 [00:07<00:00, 161.83it/s]\n",
      "Validating: 100%|██████████| 32/32 [00:00<00:00, 3218.50it/s]\n"
     ]
    },
    {
     "name": "stdout",
     "output_type": "stream",
     "text": [
      "Epoch 15 train_loss: 0.0530, val_loss: 0.7695\n",
      "\n",
      "Saved checkpoint for epoch 95: ./ckpts/FSVD/fsvd-95\n",
      "Epoch 16:\n"
     ]
    },
    {
     "name": "stderr",
     "output_type": "stream",
     "text": [
      "Training: 100%|██████████| 1271/1271 [00:07<00:00, 161.45it/s]\n",
      "Validating: 100%|██████████| 32/32 [00:00<00:00, 3167.98it/s]\n"
     ]
    },
    {
     "name": "stdout",
     "output_type": "stream",
     "text": [
      "Epoch 16 train_loss: 0.0494, val_loss: 0.7683\n",
      "\n",
      "Saved checkpoint for epoch 96: ./ckpts/FSVD/fsvd-96\n",
      "Epoch 17:\n"
     ]
    },
    {
     "name": "stderr",
     "output_type": "stream",
     "text": [
      "Training: 100%|██████████| 1271/1271 [00:07<00:00, 159.65it/s]\n",
      "Validating: 100%|██████████| 32/32 [00:00<00:00, 3213.56it/s]\n"
     ]
    },
    {
     "name": "stdout",
     "output_type": "stream",
     "text": [
      "Epoch 17 train_loss: 0.0459, val_loss: 0.7671\n",
      "\n",
      "Saved checkpoint for epoch 97: ./ckpts/FSVD/fsvd-97\n",
      "Epoch 18:\n"
     ]
    },
    {
     "name": "stderr",
     "output_type": "stream",
     "text": [
      "Training: 100%|██████████| 1271/1271 [00:07<00:00, 160.02it/s]\n",
      "Validating: 100%|██████████| 32/32 [00:00<00:00, 3294.41it/s]\n"
     ]
    },
    {
     "name": "stdout",
     "output_type": "stream",
     "text": [
      "Epoch 18 train_loss: 0.0426, val_loss: 0.7661\n",
      "\n",
      "Saved checkpoint for epoch 98: ./ckpts/FSVD/fsvd-98\n",
      "Epoch 19:\n"
     ]
    },
    {
     "name": "stderr",
     "output_type": "stream",
     "text": [
      "Training: 100%|██████████| 1271/1271 [00:07<00:00, 160.99it/s]\n",
      "Validating: 100%|██████████| 32/32 [00:00<00:00, 2110.87it/s]\n"
     ]
    },
    {
     "name": "stdout",
     "output_type": "stream",
     "text": [
      "Epoch 19 train_loss: 0.0395, val_loss: 0.7650\n",
      "\n",
      "Saved checkpoint for epoch 99: ./ckpts/FSVD/fsvd-99\n",
      "Epoch 20:\n"
     ]
    },
    {
     "name": "stderr",
     "output_type": "stream",
     "text": [
      "Training: 100%|██████████| 1271/1271 [00:07<00:00, 159.97it/s]\n",
      "Validating: 100%|██████████| 32/32 [00:00<00:00, 3057.35it/s]\n"
     ]
    },
    {
     "name": "stdout",
     "output_type": "stream",
     "text": [
      "Epoch 20 train_loss: 0.0366, val_loss: 0.7640\n",
      "\n",
      "Saved checkpoint for epoch 100: ./ckpts/FSVD/fsvd-100\n"
     ]
    },
    {
     "data": {
      "image/png": "[encoded data removed]",
      "text/plain": [
       "<Figure size 640x480 with 1 Axes>"
      ]
     },
     "metadata": {},
     "output_type": "display_data"
    }
   ],
   "source": [
    "# train the model\n",
    "train_losses = []\n",
    "val_losses = []\n",
    "\n",
    "for epoch in range(1, N_EPOCHS + 1):\n",
    "    train_loss = []\n",
    "    val_loss = []\n",
    "    print(f'Epoch {epoch}:')\n",
    "    ckpt.epoch.assign_add(1)\n",
    "\n",
    "    # training\n",
    "    for data in tqdm(dataset_train, desc='Training'):\n",
    "        loss = model.train_step(data)\n",
    "        train_loss.append(loss.numpy())\n",
    "\n",
    "    # validating\n",
    "    for data in tqdm(dataset_val, desc='Validating'):\n",
    "        loss = model.val_step(data)\n",
    "        val_loss.append(loss.numpy())\n",
    "\n",
    "    # record losses\n",
    "    avg_train_loss = np.mean(train_loss)\n",
    "    avg_val_loss = np.mean(val_loss)\n",
    "    train_losses.append(avg_train_loss)\n",
    "    val_losses.append(avg_val_loss)\n",
    "\n",
    "    # print losses\n",
    "    print(f'Epoch {epoch} train_loss: {avg_train_loss:.4f}, val_loss: {avg_val_loss:.4f}\\n')\n",
    "    save_path = manager.save()\n",
    "    print(\"Saved checkpoint for epoch {}: {}\".format(int(ckpt.epoch), save_path))  \n",
    "\n",
    "# plot the training curve\n",
    "plt.plot(train_losses, label='train_loss')\n",
    "plt.plot(val_losses, label='val_loss')\n",
    "plt.legend(loc='upper right')\n",
    "plt.title('Loss curve')\n",
    "plt.show()"
   ]
  },
  {
   "cell_type": "markdown",
   "metadata": {},
   "source": [
    "### Testing"
   ]
  },
  {
   "cell_type": "code",
   "execution_count": 16,
   "metadata": {},
   "outputs": [
    {
     "name": "stderr",
     "output_type": "stream",
     "text": [
      "Testing: 3it [00:00, 24.24it/s]"
     ]
    },
    {
     "name": "stdout",
     "output_type": "stream",
     "text": [
      "WARNING:tensorflow:5 out of the last 5 calls to <function FunkSVDRecommender.eval_predict_onestep at 0x7f525bef8670> triggered tf.function retracing. Tracing is expensive and the excessive number of tracings could be due to (1) creating @tf.function repeatedly in a loop, (2) passing tensors with different shapes, (3) passing Python objects instead of tensors. For (1), please define your @tf.function outside of the loop. For (2), @tf.function has reduce_retracing=True option that can avoid unnecessary retracing. For (3), please refer to https://www.tensorflow.org/guide/function#controlling_retracing and https://www.tensorflow.org/api_docs/python/tf/function for  more details.\n",
      "WARNING:tensorflow:6 out of the last 6 calls to <function FunkSVDRecommender.eval_predict_onestep at 0x7f525bef8670> triggered tf.function retracing. Tracing is expensive and the excessive number of tracings could be due to (1) creating @tf.function repeatedly in a loop, (2) passing tensors with different shapes, (3) passing Python objects instead of tensors. For (1), please define your @tf.function outside of the loop. For (2), @tf.function has reduce_retracing=True option that can avoid unnecessary retracing. For (3), please refer to https://www.tensorflow.org/guide/function#controlling_retracing and https://www.tensorflow.org/api_docs/python/tf/function for  more details.\n"
     ]
    },
    {
     "name": "stderr",
     "output_type": "stream",
     "text": [
      "Testing: 14215it [01:53, 124.83it/s]\n",
      "Testing: 14198it [01:41, 140.20it/s]\n",
      "Testing: 14209it [01:39, 142.10it/s]\n",
      "Testing: 14195it [01:40, 141.75it/s]\n",
      "Testing: 14222it [01:40, 141.96it/s]\n"
     ]
    },
    {
     "data": {
      "text/html": [
       "<div>\n",
       "<style scoped>\n",
       "    .dataframe tbody tr th:only-of-type {\n",
       "        vertical-align: middle;\n",
       "    }\n",
       "\n",
       "    .dataframe tbody tr th {\n",
       "        vertical-align: top;\n",
       "    }\n",
       "\n",
       "    .dataframe thead th {\n",
       "        text-align: right;\n",
       "    }\n",
       "</style>\n",
       "<table border=\"1\" class=\"dataframe\">\n",
       "  <thead>\n",
       "    <tr style=\"text-align: right;\">\n",
       "      <th></th>\n",
       "      <th>user_id</th>\n",
       "      <th>avg_score</th>\n",
       "    </tr>\n",
       "  </thead>\n",
       "  <tbody>\n",
       "    <tr>\n",
       "      <th>0</th>\n",
       "      <td>0</td>\n",
       "      <td>0.0042</td>\n",
       "    </tr>\n",
       "    <tr>\n",
       "      <th>1</th>\n",
       "      <td>1</td>\n",
       "      <td>0.0043</td>\n",
       "    </tr>\n",
       "    <tr>\n",
       "      <th>2</th>\n",
       "      <td>2</td>\n",
       "      <td>0.0043</td>\n",
       "    </tr>\n",
       "    <tr>\n",
       "      <th>3</th>\n",
       "      <td>3</td>\n",
       "      <td>0.0047</td>\n",
       "    </tr>\n",
       "    <tr>\n",
       "      <th>4</th>\n",
       "      <td>4</td>\n",
       "      <td>0.0049</td>\n",
       "    </tr>\n",
       "    <tr>\n",
       "      <th>...</th>\n",
       "      <td>...</td>\n",
       "      <td>...</td>\n",
       "    </tr>\n",
       "    <tr>\n",
       "      <th>1995</th>\n",
       "      <td>1995</td>\n",
       "      <td>0.0025</td>\n",
       "    </tr>\n",
       "    <tr>\n",
       "      <th>1996</th>\n",
       "      <td>1996</td>\n",
       "      <td>0.0025</td>\n",
       "    </tr>\n",
       "    <tr>\n",
       "      <th>1997</th>\n",
       "      <td>1997</td>\n",
       "      <td>0.0025</td>\n",
       "    </tr>\n",
       "    <tr>\n",
       "      <th>1998</th>\n",
       "      <td>1998</td>\n",
       "      <td>0.0025</td>\n",
       "    </tr>\n",
       "    <tr>\n",
       "      <th>1999</th>\n",
       "      <td>1999</td>\n",
       "      <td>0.0025</td>\n",
       "    </tr>\n",
       "  </tbody>\n",
       "</table>\n",
       "<p>2000 rows × 2 columns</p>\n",
       "</div>"
      ],
      "text/plain": [
       "      user_id  avg_score\n",
       "0           0     0.0042\n",
       "1           1     0.0043\n",
       "2           2     0.0043\n",
       "3           3     0.0047\n",
       "4           4     0.0049\n",
       "...       ...        ...\n",
       "1995     1995     0.0025\n",
       "1996     1996     0.0025\n",
       "1997     1997     0.0025\n",
       "1998     1998     0.0025\n",
       "1999     1999     0.0025\n",
       "\n",
       "[2000 rows x 2 columns]"
      ]
     },
     "execution_count": 16,
     "metadata": {},
     "output_type": "execute_result"
    }
   ],
   "source": [
    "# Initialize the testing environment\n",
    "test_env = TestingEnvironment()\n",
    "scores = []\n",
    "\n",
    "# The item_ids here is for the random recommender\n",
    "item_ids = [i for i in range(N_ITEMS)]\n",
    "\n",
    "# Repeat the testing process for 5 times\n",
    "for _ in range(TEST_EPISODES):\n",
    "    # [TODO] Load your model weights here (in the beginning of each testing episode)\n",
    "    # [TODO] Code for loading your model weights...\n",
    "    ckpt.restore(manager.latest_checkpoint)\n",
    "\n",
    "    # Start the testing process\n",
    "    with tqdm(desc='Testing') as pbar:\n",
    "        # Run as long as there exist some active users\n",
    "        while test_env.has_next_state():\n",
    "            # Get the current user id\n",
    "            cur_user = test_env.get_state()\n",
    "            \n",
    "            # [TODO] Employ your recommendation policy to generate a slate of 5 distinct items\n",
    "            # [TODO] Code for generating the recommended slate...\n",
    "            slate = model.eval_predict_onestep(cur_user)\n",
    "\n",
    "            # Get the response of the slate from the environment\n",
    "            clicked_id, in_environment = test_env.get_response(slate)\n",
    "\n",
    "            # [TODO] Update your model here (optional)\n",
    "            # [TODO] You can update your model at each step, or perform a batched update after some interval\n",
    "            # [TODO] Code for updating your model...\n",
    "            ratings_data = []\n",
    "            if clicked_id != -1:\n",
    "                ratings_data.append({'user_id': cur_user, 'item_id': clicked_id, 'rating': 5.0})\n",
    "            \n",
    "            df = pd.DataFrame(ratings_data)\n",
    "            df_ratings = pd.concat([df_ratings, df], ignore_index=True)\n",
    "            \n",
    "            # Update the progress indicator\n",
    "            pbar.update(1)\n",
    "\n",
    "    # Record the score of this testing episode\n",
    "    scores.append(test_env.get_score())\n",
    "\n",
    "    # Reset the testing environment\n",
    "    test_env.reset()\n",
    "\n",
    "    # [TODO] Delete or reset your model weights here (in the end of each testing episode)\n",
    "    # [TODO] Code for deleting your model weights...\n",
    "    ckpt.restore(manager.latest_checkpoint)\n",
    "    df_ratings = df_ratings.drop_duplicates(subset=['user_id', 'item_id'], keep='first', ignore_index=True)\n",
    "\n",
    "# Calculate the average scores \n",
    "avg_scores = [np.average(score) for score in zip(*scores)]\n",
    "\n",
    "# Generate a DataFrame to output the result in a .csv file\n",
    "df_result = pd.DataFrame([[user_id, avg_score] for user_id, avg_score in enumerate(avg_scores)], columns=['user_id', 'avg_score'])\n",
    "df_result.to_csv(OUTPUT_PATH, index=False)\n",
    "df_result"
   ]
  },
  {
   "cell_type": "code",
   "execution_count": 17,
   "metadata": {},
   "outputs": [
    {
     "data": {
      "text/html": [
       "<div>\n",
       "<style scoped>\n",
       "    .dataframe tbody tr th:only-of-type {\n",
       "        vertical-align: middle;\n",
       "    }\n",
       "\n",
       "    .dataframe tbody tr th {\n",
       "        vertical-align: top;\n",
       "    }\n",
       "\n",
       "    .dataframe thead th {\n",
       "        text-align: right;\n",
       "    }\n",
       "</style>\n",
       "<table border=\"1\" class=\"dataframe\">\n",
       "  <thead>\n",
       "    <tr style=\"text-align: right;\">\n",
       "      <th></th>\n",
       "      <th>user_id</th>\n",
       "      <th>item_id</th>\n",
       "      <th>rating</th>\n",
       "    </tr>\n",
       "  </thead>\n",
       "  <tbody>\n",
       "    <tr>\n",
       "      <th>0</th>\n",
       "      <td>0.0</td>\n",
       "      <td>10162.0</td>\n",
       "      <td>5.0</td>\n",
       "    </tr>\n",
       "    <tr>\n",
       "      <th>1</th>\n",
       "      <td>0.0</td>\n",
       "      <td>13353.0</td>\n",
       "      <td>5.0</td>\n",
       "    </tr>\n",
       "    <tr>\n",
       "      <th>2</th>\n",
       "      <td>0.0</td>\n",
       "      <td>33127.0</td>\n",
       "      <td>5.0</td>\n",
       "    </tr>\n",
       "    <tr>\n",
       "      <th>3</th>\n",
       "      <td>0.0</td>\n",
       "      <td>35130.0</td>\n",
       "      <td>5.0</td>\n",
       "    </tr>\n",
       "    <tr>\n",
       "      <th>4</th>\n",
       "      <td>0.0</td>\n",
       "      <td>39676.0</td>\n",
       "      <td>5.0</td>\n",
       "    </tr>\n",
       "    <tr>\n",
       "      <th>...</th>\n",
       "      <td>...</td>\n",
       "      <td>...</td>\n",
       "      <td>...</td>\n",
       "    </tr>\n",
       "    <tr>\n",
       "      <th>164955</th>\n",
       "      <td>1998.0</td>\n",
       "      <td>55561.0</td>\n",
       "      <td>5.0</td>\n",
       "    </tr>\n",
       "    <tr>\n",
       "      <th>164956</th>\n",
       "      <td>1998.0</td>\n",
       "      <td>60372.0</td>\n",
       "      <td>5.0</td>\n",
       "    </tr>\n",
       "    <tr>\n",
       "      <th>164957</th>\n",
       "      <td>1999.0</td>\n",
       "      <td>77906.0</td>\n",
       "      <td>5.0</td>\n",
       "    </tr>\n",
       "    <tr>\n",
       "      <th>164958</th>\n",
       "      <td>1999.0</td>\n",
       "      <td>124792.0</td>\n",
       "      <td>5.0</td>\n",
       "    </tr>\n",
       "    <tr>\n",
       "      <th>164959</th>\n",
       "      <td>1999.0</td>\n",
       "      <td>125409.0</td>\n",
       "      <td>5.0</td>\n",
       "    </tr>\n",
       "  </tbody>\n",
       "</table>\n",
       "<p>164967 rows × 3 columns</p>\n",
       "</div>"
      ],
      "text/plain": [
       "        user_id   item_id  rating\n",
       "0           0.0   10162.0     5.0\n",
       "1           0.0   13353.0     5.0\n",
       "2           0.0   33127.0     5.0\n",
       "3           0.0   35130.0     5.0\n",
       "4           0.0   39676.0     5.0\n",
       "...         ...       ...     ...\n",
       "164955   1998.0   55561.0     5.0\n",
       "164956   1998.0   60372.0     5.0\n",
       "164957   1999.0   77906.0     5.0\n",
       "164958   1999.0  124792.0     5.0\n",
       "164959   1999.0  125409.0     5.0\n",
       "\n",
       "[164967 rows x 3 columns]"
      ]
     },
     "execution_count": 17,
     "metadata": {},
     "output_type": "execute_result"
    }
   ],
   "source": [
    "df_ratings = df_ratings.sort_values(by=['user_id', 'item_id'])\n",
    "df_ratings"
   ]
  },
  {
   "cell_type": "code",
   "execution_count": 18,
   "metadata": {},
   "outputs": [
    {
     "name": "stdout",
     "output_type": "stream",
     "text": [
      "Mean Absolute Error (MAE): 0.996448\n"
     ]
    }
   ],
   "source": [
    "mae = (df_result['avg_score'] - 1).abs().mean()\n",
    "print(f\"Mean Absolute Error (MAE): {mae:.6f}\")"
   ]
  },
  {
   "cell_type": "markdown",
   "metadata": {},
   "source": [
    "## Report\n",
    "### I. Models have tried during the competition.\n",
    "- **FunkSVD(from Recommender Systems Tutorial)**\n",
    "    The Funk Singular Value Decomposition (FunkSVD) model is a matrix factorization technique particularly suited for recommender systems. Unlike traditional SVD, FunkSVD can handle sparse matrices, which are typical in user-item interaction data. We selected the FunkSVD model due to its efficiency in dealing with sparse data and its proven track record in collaborative filtering tasks. Its ability to capture latent factors in user-item interactions makes it adept at predicting user preferences, even with limited interaction history. \n",
    "\n",
    "- **Item-Based Collaborative Filtering(failed)**\n",
    "    This model relies on the similarity between items to make recommendations. It constructs an item-item similarity matrix by computing the cosine similarity between item vectors in the user-item interaction matrix. Recommendations are then made based on items that are most similar to those the user has previously interacted with.Item-based collaborative filtering was chosen for its scalability and effectiveness in situations with fewer user interactions. We chose Item-Based Collaborative Filtering for its effectiveness in scenarios where user interactions are sparse and its inherent scalability when handling large user bases. This method appeared particularly suitable for our dataset, which had a higher item-to-user ratio. The primary challenge was the sheer volume of items in our dataset, which led to an excessively large item-item similarity matrix. This matrix size posed memory constraints, exceeding our available computational resources.\n",
    "\n",
    "### II. List the experiments you have done.\n",
    "- **FunkSVD**\n",
    "    - Interaction Data Processing: Our initial approach involved using interaction data to determine whether a user clicked on an item. We assigned a high score (5.0) to items that were clicked and a low score (1.0) to those that weren't. This binary scoring method was the foundation of our early models.\n",
    "\n",
    "    - Adapting to Dataset Limitations: Unlike datasets used in typical tutorials, where users have provided explicit ratings for the items they interact with, our competition dataset lacked such explicit user ratings. To address this, we self-assigned ratings to each interaction during the data collection phase from the test environment. This allowed us to simulate a scenario with explicit user preferences and enhance the effectiveness of our recommendation models.\n",
    "\n",
    "    - Experiment with Soft Labels: In an attempt to refine our model's accuracy, we experimented with soft labels instead of binary scores. The idea was to incorporate varying degrees of preference rather than a strict clicked/unclicked dichotomy. However, due to time constraints and complexity in implementation, we reverted to using only clicked data (score 5.0) for our final submissions. Interestingly, we found that the performance did not significantly differ from the more nuanced approach.\n",
    "\n",
    "    - Hyperparameter tuning: After rigorous experimentation, we found the following set of hyperparameters to yield the best performance: EMBEDDING_SIZE = 512, BATCH_SIZE = 128, N_EPOCHS = 20, LEARNING_RATE = 1e-5.\n",
    "\n",
    "### III. Discussions\n",
    "In this competition, the lack of substantial interaction data presented a significant challenge. Merely adjusting the model without considering other methods to potentially improve performance, or without collecting more data, made it difficult to achieve desirable results. The process of data augmentation also posed its own set of challenges; it wasn't just about recording which users clicked on which items, but also about designing a mechanism for user ratings. Despite collecting more interaction data from both the training and testing environments, making accurate recommendations for the latter 1,000 users during testing was particularly challenging due to the scarcity of data available from the training phase. This issue adversely affected our final ranking. Thus, how to ensure that all users receive good recommendations and how to effectively rate interactions based on user behavior remain critical questions for us to consider.\n",
    "        "
   ]
  }
 ],
 "metadata": {
  "kernelspec": {
   "display_name": "venv",
   "language": "python",
   "name": "python3"
  },
  "language_info": {
   "codemirror_mode": {
    "name": "ipython",
    "version": 3
   },
   "file_extension": ".py",
   "mimetype": "text/x-python",
   "name": "python",
   "nbconvert_exporter": "python",
   "pygments_lexer": "ipython3",
   "version": "3.10.13"
  }
 },
 "nbformat": 4,
 "nbformat_minor": 2
}
