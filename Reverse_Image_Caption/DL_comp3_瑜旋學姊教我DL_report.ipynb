{
 "cells": [
  {
   "cell_type": "markdown",
   "metadata": {},
   "source": [
    "# Competition 3 Report\n",
    "- Team name: 瑜旋學姊教我DL\n",
    "- Team members:\n",
    "    - 王興彥 112062531\n",
    "    - 邱仁緯 112062559\n",
    "    - 林沁璿 112062632"
   ]
  },
  {
   "cell_type": "markdown",
   "metadata": {},
   "source": [
    "### 1. Pick 5 descriptions from testing data and generate 5 images with different noise z respectively."
   ]
  },
  {
   "cell_type": "code",
   "execution_count": null,
   "metadata": {
    "vscode": {
     "languageId": "plaintext"
    }
   },
   "outputs": [],
   "source": [
    "def read_and_print_file(file_path):\n",
    "    try:\n",
    "        # Open the file in read mode\n",
    "        with open(file_path, 'r') as file:\n",
    "            # Read the content of the file\n",
    "            content = file.read()\n",
    "            # Print the content\n",
    "            print(content)\n",
    "    except FileNotFoundError:\n",
    "        print(f\"The file {file_path} was not found.\")\n",
    "    except Exception as e:\n",
    "        print(f\"An error occurred: {e}\")\n",
    "\n",
    "# Replace 'example.txt' with the path to your text file\n",
    "file_path = 'example.txt'\n",
    "read_and_print_file(file_path)"
   ]
  }
 ],
 "metadata": {
  "language_info": {
   "name": "python"
  }
 },
 "nbformat": 4,
 "nbformat_minor": 2
}
